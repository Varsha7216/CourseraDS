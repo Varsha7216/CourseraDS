{
 "cells": [
  {
   "cell_type": "markdown",
   "id": "e97fb5f1",
   "metadata": {},
   "source": [
    "<h1>Data Science Tools and Ecosystem<h1>"
   ]
  },
  {
   "cell_type": "markdown",
   "id": "6c45188e",
   "metadata": {},
   "source": [
    "## In this notebook, Data Science Tools and Ecosystem are summarized."
   ]
  },
  {
   "cell_type": "markdown",
   "id": "17ce51bb",
   "metadata": {},
   "source": [
    "**Objectives**\n",
    "    <li>Popular languages that Data Scientists uses</li>\n",
    "      <li>Commonly used libraries used by Data Scientists</li>\n",
    "      <li>Data Science Tools</li>\n",
    "    <li>arithmetic expressions</li>"
   ]
  },
  {
   "cell_type": "markdown",
   "id": "ac9e5a91",
   "metadata": {},
   "source": [
    "\n",
    "<p>Some of the popular languages that Data Scientists use are:</p> \n",
    " <ol>     <li>Python</li>\n",
    "      <li>R</li>\n",
    "      <li>Java</li>\n",
    "</ol>\n"
   ]
  },
  {
   "cell_type": "markdown",
   "id": "4f050a86",
   "metadata": {},
   "source": [
    "<p>Some of the commonly used libraries used by Data Scientists include:</p>\n",
    " <ol>     <li>Numpy</li>\n",
    "      <li>Pandas</li>\n",
    "      <li>Matplotlib</li>\n",
    "</ol>"
   ]
  },
  {
   "cell_type": "markdown",
   "id": "18b3eeea",
   "metadata": {},
   "source": [
    "<table >\n",
    "    <tr><th >Data Science Tools</th>\n",
    "    </tr><tr><th>RStudio</th></tr>\n",
    "    <tr><th >Jupyter</th></tr>\n",
    "    <tr><th >Visual Studio</th></tr>\n",
    "</table>"
   ]
  },
  {
   "cell_type": "markdown",
   "id": "0233dc5b",
   "metadata": {},
   "source": [
    "<h3>Below are a few examples of evaluating arithmetic expressions in Python<h3>"
   ]
  },
  {
   "cell_type": "code",
   "execution_count": 1,
   "id": "83af829b",
   "metadata": {},
   "outputs": [
    {
     "data": {
      "text/plain": [
       "17"
      ]
     },
     "execution_count": 1,
     "metadata": {},
     "output_type": "execute_result"
    }
   ],
   "source": [
    "# This a simple arithmetic expression to mutiply then add integers\n",
    "(3*4)+5"
   ]
  },
  {
   "cell_type": "code",
   "execution_count": 2,
   "id": "d0acf428",
   "metadata": {},
   "outputs": [
    {
     "data": {
      "text/plain": [
       "3.3333333333333335"
      ]
     },
     "execution_count": 2,
     "metadata": {},
     "output_type": "execute_result"
    }
   ],
   "source": [
    "#This will convert 200 minutes to hours by diving by 60\n",
    "200/60"
   ]
  },
  {
   "cell_type": "markdown",
   "id": "766a1b61",
   "metadata": {},
   "source": [
    "<h2> Author</h2>\n",
    "    Varsha Kumari"
   ]
  },
  {
   "cell_type": "markdown",
   "id": "8ca7663e",
   "metadata": {},
   "source": []
  },
  {
   "cell_type": "code",
   "execution_count": null,
   "id": "15e43b5b",
   "metadata": {},
   "outputs": [],
   "source": []
  }
 ],
 "metadata": {
  "kernelspec": {
   "display_name": "Python 3 (ipykernel)",
   "language": "python",
   "name": "python3"
  },
  "language_info": {
   "codemirror_mode": {
    "name": "ipython",
    "version": 3
   },
   "file_extension": ".py",
   "mimetype": "text/x-python",
   "name": "python",
   "nbconvert_exporter": "python",
   "pygments_lexer": "ipython3",
   "version": "3.10.9"
  }
 },
 "nbformat": 4,
 "nbformat_minor": 5
}
